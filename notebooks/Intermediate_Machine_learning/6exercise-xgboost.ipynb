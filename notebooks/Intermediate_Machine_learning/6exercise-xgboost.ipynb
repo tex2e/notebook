{
 "cells": [
  {
   "cell_type": "markdown",
   "metadata": {},
   "source": [
    "**[Intermediate Machine Learning Home Page](https://www.kaggle.com/learn/intermediate-machine-learning)**\n",
    "\n",
    "---\n"
   ]
  },
  {
   "cell_type": "markdown",
   "metadata": {},
   "source": [
    "In this exercise, you will use your new knowledge to train a model with **gradient boosting**.\n",
    "\n",
    "# Setup\n",
    "\n",
    "The questions below will give you feedback on your work. Run the following cell to set up the feedback system."
   ]
  },
  {
   "cell_type": "code",
   "execution_count": 1,
   "metadata": {},
   "outputs": [
    {
     "name": "stderr",
     "output_type": "stream",
     "text": [
      "/opt/conda/lib/python3.6/site-packages/xgboost/core.py:587: FutureWarning: Series.base is deprecated and will be removed in a future version\n",
      "  if getattr(data, 'base', None) is not None and \\\n"
     ]
    },
    {
     "name": "stdout",
     "output_type": "stream",
     "text": [
      "[10:57:22] WARNING: /workspace/src/objective/regression_obj.cu:152: reg:linear is now deprecated in favor of reg:squarederror.\n",
      "Setup Complete\n"
     ]
    }
   ],
   "source": [
    "# Set up code checking\n",
    "import os\n",
    "if not os.path.exists(\"../input/train.csv\"):\n",
    "    os.symlink(\"../input/home-data-for-ml-course/train.csv\", \"../input/train.csv\")  \n",
    "    os.symlink(\"../input/home-data-for-ml-course/test.csv\", \"../input/test.csv\") \n",
    "from learntools.core import binder\n",
    "binder.bind(globals())\n",
    "from learntools.ml_intermediate.ex6 import *\n",
    "print(\"Setup Complete\")"
   ]
  },
  {
   "cell_type": "markdown",
   "metadata": {},
   "source": [
    "You will work with the [Housing Prices Competition for Kaggle Learn Users](https://www.kaggle.com/c/home-data-for-ml-course) dataset from the previous exercise. \n",
    "\n",
    "![Ames Housing dataset image](https://i.imgur.com/lTJVG4e.png)\n",
    "\n",
    "Run the next code cell without changes to load the training and validation sets in `X_train`, `X_valid`, `y_train`, and `y_valid`.  The test set is loaded in `X_test`."
   ]
  },
  {
   "cell_type": "code",
   "execution_count": 2,
   "metadata": {},
   "outputs": [],
   "source": [
    "import pandas as pd\n",
    "from sklearn.model_selection import train_test_split\n",
    "\n",
    "# Read the data\n",
    "X = pd.read_csv('../input/train.csv', index_col='Id')\n",
    "X_test_full = pd.read_csv('../input/test.csv', index_col='Id')\n",
    "\n",
    "# Remove rows with missing target, separate target from predictors\n",
    "X.dropna(axis=0, subset=['SalePrice'], inplace=True)\n",
    "y = X.SalePrice              \n",
    "X.drop(['SalePrice'], axis=1, inplace=True)\n",
    "\n",
    "# Break off validation set from training data\n",
    "X_train_full, X_valid_full, y_train, y_valid = train_test_split(X, y, train_size=0.8, test_size=0.2,\n",
    "                                                                random_state=0)\n",
    "\n",
    "# \"Cardinality\" means the number of unique values in a column\n",
    "# Select categorical columns with relatively low cardinality (convenient but arbitrary)\n",
    "low_cardinality_cols = [cname for cname in X_train_full.columns if X_train_full[cname].nunique() < 10 and \n",
    "                        X_train_full[cname].dtype == \"object\"]\n",
    "\n",
    "# Select numeric columns\n",
    "numeric_cols = [cname for cname in X_train_full.columns if X_train_full[cname].dtype in ['int64', 'float64']]\n",
    "\n",
    "# Keep selected columns only\n",
    "my_cols = low_cardinality_cols + numeric_cols\n",
    "X_train = X_train_full[my_cols].copy()\n",
    "X_valid = X_valid_full[my_cols].copy()\n",
    "X_test = X_test_full[my_cols].copy()\n",
    "\n",
    "# One-hot encode the data (to shorten the code, we use pandas)\n",
    "X_train = pd.get_dummies(X_train)\n",
    "X_valid = pd.get_dummies(X_valid)\n",
    "X_test = pd.get_dummies(X_test)\n",
    "X_train, X_valid = X_train.align(X_valid, join='left', axis=1)\n",
    "X_train, X_test = X_train.align(X_test, join='left', axis=1)"
   ]
  },
  {
   "cell_type": "markdown",
   "metadata": {},
   "source": [
    "# Step 1: Build model\n",
    "\n",
    "In this step, you'll build and train your first model with gradient boosting.\n",
    "\n",
    "- Begin by setting `my_model_1` to an XGBoost model.  Use the [XGBRegressor](https://xgboost.readthedocs.io/en/latest/python/python_api.html#xgboost.XGBRegressor) class, and set the random seed to 0 (`random_state=0`).  **Leave all other parameters as default.**\n",
    "- Then, fit the model to the training data in `X_train` and `y_train`."
   ]
  },
  {
   "cell_type": "code",
   "execution_count": 3,
   "metadata": {},
   "outputs": [
    {
     "name": "stderr",
     "output_type": "stream",
     "text": [
      "/opt/conda/lib/python3.6/site-packages/xgboost/core.py:587: FutureWarning: Series.base is deprecated and will be removed in a future version\n",
      "  if getattr(data, 'base', None) is not None and \\\n"
     ]
    },
    {
     "name": "stdout",
     "output_type": "stream",
     "text": [
      "[10:57:23] WARNING: /workspace/src/objective/regression_obj.cu:152: reg:linear is now deprecated in favor of reg:squarederror.\n"
     ]
    },
    {
     "data": {
      "application/javascript": [
       "parent.postMessage({\"jupyterEvent\": \"custom.exercise_interaction\", \"data\": {\"outcomeType\": 1, \"valueTowardsCompletion\": 0.5, \"interactionType\": 1, \"questionType\": 2, \"questionId\": \"1.1_Model1A\", \"learnToolsVersion\": \"0.3.3\", \"failureMessage\": \"\", \"exceptionClass\": \"\", \"trace\": \"\"}}, \"*\")"
      ],
      "text/plain": [
       "<IPython.core.display.Javascript object>"
      ]
     },
     "metadata": {},
     "output_type": "display_data"
    },
    {
     "data": {
      "text/markdown": [
       "<span style=\"color:#33cc33\">Correct</span>"
      ],
      "text/plain": [
       "Correct"
      ]
     },
     "metadata": {},
     "output_type": "display_data"
    }
   ],
   "source": [
    "from xgboost import XGBRegressor\n",
    "\n",
    "# Define the model\n",
    "my_model_1 = XGBRegressor()\n",
    "\n",
    "# Fit the model\n",
    "my_model_1.fit(X_train, y_train)\n",
    "\n",
    "# Check your answer\n",
    "step_1.a.check()"
   ]
  },
  {
   "cell_type": "code",
   "execution_count": 4,
   "metadata": {},
   "outputs": [],
   "source": [
    "# Lines below will give you a hint or solution code\n",
    "#step_1.a.hint()\n",
    "#step_1.a.solution()"
   ]
  },
  {
   "cell_type": "markdown",
   "metadata": {},
   "source": [
    "Set `predictions_1` to the model's predictions for the validation data.  Recall that the validation features are stored in `X_valid`."
   ]
  },
  {
   "cell_type": "code",
   "execution_count": 5,
   "metadata": {},
   "outputs": [
    {
     "data": {
      "application/javascript": [
       "parent.postMessage({\"jupyterEvent\": \"custom.exercise_interaction\", \"data\": {\"outcomeType\": 1, \"valueTowardsCompletion\": 0.5, \"interactionType\": 1, \"questionType\": 2, \"questionId\": \"1.2_Model1B\", \"learnToolsVersion\": \"0.3.3\", \"failureMessage\": \"\", \"exceptionClass\": \"\", \"trace\": \"\"}}, \"*\")"
      ],
      "text/plain": [
       "<IPython.core.display.Javascript object>"
      ]
     },
     "metadata": {},
     "output_type": "display_data"
    },
    {
     "data": {
      "text/markdown": [
       "<span style=\"color:#33cc33\">Correct</span>"
      ],
      "text/plain": [
       "Correct"
      ]
     },
     "metadata": {},
     "output_type": "display_data"
    }
   ],
   "source": [
    "from sklearn.metrics import mean_absolute_error\n",
    "\n",
    "# Get predictions\n",
    "predictions_1 = my_model_1.predict(X_valid)\n",
    "\n",
    "# Check your answer\n",
    "step_1.b.check()"
   ]
  },
  {
   "cell_type": "code",
   "execution_count": 6,
   "metadata": {},
   "outputs": [],
   "source": [
    "# Lines below will give you a hint or solution code\n",
    "#step_1.b.hint()\n",
    "#step_1.b.solution()"
   ]
  },
  {
   "cell_type": "markdown",
   "metadata": {},
   "source": [
    "Finally, use the `mean_absolute_error()` function to calculate the mean absolute error (MAE) corresponding to the predictions for the validation set.  Recall that the labels for the validation data are stored in `y_valid`."
   ]
  },
  {
   "cell_type": "code",
   "execution_count": 7,
   "metadata": {},
   "outputs": [
    {
     "name": "stdout",
     "output_type": "stream",
     "text": [
      "Mean Absolute Error: 16803.434690710616\n"
     ]
    },
    {
     "data": {
      "application/javascript": [
       "parent.postMessage({\"jupyterEvent\": \"custom.exercise_interaction\", \"data\": {\"outcomeType\": 1, \"valueTowardsCompletion\": 0.5, \"interactionType\": 1, \"questionType\": 2, \"questionId\": \"1.3_Model1C\", \"learnToolsVersion\": \"0.3.3\", \"failureMessage\": \"\", \"exceptionClass\": \"\", \"trace\": \"\"}}, \"*\")"
      ],
      "text/plain": [
       "<IPython.core.display.Javascript object>"
      ]
     },
     "metadata": {},
     "output_type": "display_data"
    },
    {
     "data": {
      "text/markdown": [
       "<span style=\"color:#33cc33\">Correct</span>"
      ],
      "text/plain": [
       "Correct"
      ]
     },
     "metadata": {},
     "output_type": "display_data"
    }
   ],
   "source": [
    "# Calculate MAE\n",
    "mae_1 = mean_absolute_error(y_valid, predictions_1)\n",
    "\n",
    "# Uncomment to print MAE\n",
    "print(\"Mean Absolute Error:\" , mae_1)\n",
    "\n",
    "# Check your answer\n",
    "step_1.c.check()"
   ]
  },
  {
   "cell_type": "code",
   "execution_count": 8,
   "metadata": {},
   "outputs": [],
   "source": [
    "# Lines below will give you a hint or solution code\n",
    "#step_1.c.hint()\n",
    "#step_1.c.solution()"
   ]
  },
  {
   "cell_type": "markdown",
   "metadata": {},
   "source": [
    "# Step 2: Improve the model\n",
    "\n",
    "Now that you've trained a default model as baseline, it's time to tinker with the parameters, to see if you can get better performance!\n",
    "- Begin by setting `my_model_2` to an XGBoost model, using the [XGBRegressor](https://xgboost.readthedocs.io/en/latest/python/python_api.html#xgboost.XGBRegressor) class.  Use what you learned in the previous tutorial to figure out how to change the default parameters (like `n_estimators` and `learning_rate`) to get better results.\n",
    "- Then, fit the model to the training data in `X_train` and `y_train`.\n",
    "- Set `predictions_2` to the model's predictions for the validation data.  Recall that the validation features are stored in `X_valid`.\n",
    "- Finally, use the `mean_absolute_error()` function to calculate the mean absolute error (MAE) corresponding to the predictions on the validation set.  Recall that the labels for the validation data are stored in `y_valid`.\n",
    "\n",
    "In order for this step to be marked correct, your model in `my_model_2` must attain lower MAE than the model in `my_model_1`. "
   ]
  },
  {
   "cell_type": "code",
   "execution_count": 9,
   "metadata": {},
   "outputs": [
    {
     "name": "stdout",
     "output_type": "stream",
     "text": [
      "[10:57:24] WARNING: /workspace/src/objective/regression_obj.cu:152: reg:linear is now deprecated in favor of reg:squarederror.\n",
      "[0]\tvalidation_0-rmse:178495\n",
      "Will train until validation_0-rmse hasn't improved in 5 rounds.\n",
      "[1]\tvalidation_0-rmse:161815\n",
      "[2]\tvalidation_0-rmse:146811\n",
      "[3]\tvalidation_0-rmse:133298\n",
      "[4]\tvalidation_0-rmse:121196\n",
      "[5]\tvalidation_0-rmse:110282\n",
      "[6]\tvalidation_0-rmse:100483\n",
      "[7]\tvalidation_0-rmse:91718.1\n",
      "[8]\tvalidation_0-rmse:83888.9\n",
      "[9]\tvalidation_0-rmse:76820.9\n",
      "[10]\tvalidation_0-rmse:70426.2\n",
      "[11]\tvalidation_0-rmse:64714.6\n",
      "[12]\tvalidation_0-rmse:59621.7\n",
      "[13]\tvalidation_0-rmse:55079.7\n",
      "[14]\tvalidation_0-rmse:51013.6\n"
     ]
    },
    {
     "name": "stderr",
     "output_type": "stream",
     "text": [
      "/opt/conda/lib/python3.6/site-packages/xgboost/core.py:587: FutureWarning: Series.base is deprecated and will be removed in a future version\n",
      "  if getattr(data, 'base', None) is not None and \\\n"
     ]
    },
    {
     "name": "stdout",
     "output_type": "stream",
     "text": [
      "[15]\tvalidation_0-rmse:47366.9\n",
      "[16]\tvalidation_0-rmse:44119.1\n",
      "[17]\tvalidation_0-rmse:41258.3\n",
      "[18]\tvalidation_0-rmse:38727.5\n",
      "[19]\tvalidation_0-rmse:36448.8\n",
      "[20]\tvalidation_0-rmse:34407.7\n",
      "[21]\tvalidation_0-rmse:32609.2\n",
      "[22]\tvalidation_0-rmse:30986.1\n",
      "[23]\tvalidation_0-rmse:29575.9\n",
      "[24]\tvalidation_0-rmse:28368\n",
      "[25]\tvalidation_0-rmse:27246\n",
      "[26]\tvalidation_0-rmse:26231.4\n",
      "[27]\tvalidation_0-rmse:25336.3\n",
      "[28]\tvalidation_0-rmse:24535.4\n",
      "[29]\tvalidation_0-rmse:23868.4\n",
      "[30]\tvalidation_0-rmse:23222.9\n",
      "[31]\tvalidation_0-rmse:22618.2\n",
      "[32]\tvalidation_0-rmse:22082\n",
      "[33]\tvalidation_0-rmse:21650.4\n",
      "[34]\tvalidation_0-rmse:21214.4\n",
      "[35]\tvalidation_0-rmse:20824.6\n",
      "[36]\tvalidation_0-rmse:20431.3\n",
      "[37]\tvalidation_0-rmse:20104.6\n",
      "[38]\tvalidation_0-rmse:19813.7\n",
      "[39]\tvalidation_0-rmse:19546\n",
      "[40]\tvalidation_0-rmse:19248.5\n",
      "[41]\tvalidation_0-rmse:18951.2\n",
      "[42]\tvalidation_0-rmse:18750.8\n",
      "[43]\tvalidation_0-rmse:18532.8\n",
      "[44]\tvalidation_0-rmse:18354.1\n",
      "[45]\tvalidation_0-rmse:18167.2\n",
      "[46]\tvalidation_0-rmse:18013.3\n",
      "[47]\tvalidation_0-rmse:17833.6\n",
      "[48]\tvalidation_0-rmse:17707.2\n",
      "[49]\tvalidation_0-rmse:17577.1\n",
      "[50]\tvalidation_0-rmse:17487.7\n",
      "[51]\tvalidation_0-rmse:17336.5\n",
      "[52]\tvalidation_0-rmse:17258.2\n",
      "[53]\tvalidation_0-rmse:17105.5\n",
      "[54]\tvalidation_0-rmse:16990.9\n",
      "[55]\tvalidation_0-rmse:16880.5\n",
      "[56]\tvalidation_0-rmse:16792.8\n",
      "[57]\tvalidation_0-rmse:16678.5\n",
      "[58]\tvalidation_0-rmse:16619.7\n",
      "[59]\tvalidation_0-rmse:16549.9\n",
      "[60]\tvalidation_0-rmse:16443\n",
      "[61]\tvalidation_0-rmse:16354\n",
      "[62]\tvalidation_0-rmse:16250\n",
      "[63]\tvalidation_0-rmse:16163.7\n",
      "[64]\tvalidation_0-rmse:16106\n",
      "[65]\tvalidation_0-rmse:16045\n",
      "[66]\tvalidation_0-rmse:15971.9\n",
      "[67]\tvalidation_0-rmse:15922.3\n",
      "[68]\tvalidation_0-rmse:15836.3\n",
      "[69]\tvalidation_0-rmse:15735.3\n",
      "[70]\tvalidation_0-rmse:15657.2\n",
      "[71]\tvalidation_0-rmse:15592\n",
      "[72]\tvalidation_0-rmse:15554.9\n",
      "[73]\tvalidation_0-rmse:15495.5\n",
      "[74]\tvalidation_0-rmse:15451.8\n",
      "[75]\tvalidation_0-rmse:15419.1\n",
      "[76]\tvalidation_0-rmse:15382.8\n",
      "[77]\tvalidation_0-rmse:15348\n",
      "[78]\tvalidation_0-rmse:15280.6\n",
      "[79]\tvalidation_0-rmse:15214.6\n",
      "[80]\tvalidation_0-rmse:15158.2\n",
      "[81]\tvalidation_0-rmse:15090.7\n",
      "[82]\tvalidation_0-rmse:15030.8\n",
      "[83]\tvalidation_0-rmse:14965.5\n",
      "[84]\tvalidation_0-rmse:14928.9\n",
      "[85]\tvalidation_0-rmse:14902.7\n",
      "[86]\tvalidation_0-rmse:14852.7\n",
      "[87]\tvalidation_0-rmse:14816.7\n",
      "[88]\tvalidation_0-rmse:14739.9\n",
      "[89]\tvalidation_0-rmse:14699.2\n",
      "[90]\tvalidation_0-rmse:14656.2\n",
      "[91]\tvalidation_0-rmse:14610.2\n",
      "[92]\tvalidation_0-rmse:14565\n",
      "[93]\tvalidation_0-rmse:14509\n",
      "[94]\tvalidation_0-rmse:14455\n",
      "[95]\tvalidation_0-rmse:14388.8\n",
      "[96]\tvalidation_0-rmse:14354.1\n",
      "[97]\tvalidation_0-rmse:14322.3\n",
      "[98]\tvalidation_0-rmse:14279.1\n",
      "[99]\tvalidation_0-rmse:14205\n",
      "[100]\tvalidation_0-rmse:14175.8\n",
      "[101]\tvalidation_0-rmse:14145.3\n",
      "[102]\tvalidation_0-rmse:14126.1\n",
      "[103]\tvalidation_0-rmse:14074.3\n",
      "[104]\tvalidation_0-rmse:14043.4\n",
      "[105]\tvalidation_0-rmse:13997.8\n",
      "[106]\tvalidation_0-rmse:13965.7\n",
      "[107]\tvalidation_0-rmse:13930.6\n",
      "[108]\tvalidation_0-rmse:13901.4\n",
      "[109]\tvalidation_0-rmse:13844.4\n",
      "[110]\tvalidation_0-rmse:13824.2\n",
      "[111]\tvalidation_0-rmse:13800.3\n",
      "[112]\tvalidation_0-rmse:13746.5\n",
      "[113]\tvalidation_0-rmse:13707.3\n",
      "[114]\tvalidation_0-rmse:13654.3\n",
      "[115]\tvalidation_0-rmse:13631\n",
      "[116]\tvalidation_0-rmse:13583.9\n",
      "[117]\tvalidation_0-rmse:13553.8\n",
      "[118]\tvalidation_0-rmse:13510.1\n",
      "[119]\tvalidation_0-rmse:13489\n",
      "[120]\tvalidation_0-rmse:13437.2\n",
      "[121]\tvalidation_0-rmse:13402.3\n",
      "[122]\tvalidation_0-rmse:13372.9\n",
      "[123]\tvalidation_0-rmse:13348.4\n",
      "[124]\tvalidation_0-rmse:13327.7\n",
      "[125]\tvalidation_0-rmse:13305.8\n",
      "[126]\tvalidation_0-rmse:13265\n",
      "[127]\tvalidation_0-rmse:13223.3\n",
      "[128]\tvalidation_0-rmse:13202.6\n",
      "[129]\tvalidation_0-rmse:13151.3\n",
      "[130]\tvalidation_0-rmse:13113.2\n",
      "[131]\tvalidation_0-rmse:13091.9\n",
      "[132]\tvalidation_0-rmse:13056.6\n",
      "[133]\tvalidation_0-rmse:13003\n",
      "[134]\tvalidation_0-rmse:12981.6\n",
      "[135]\tvalidation_0-rmse:12957.1\n",
      "[136]\tvalidation_0-rmse:12940\n",
      "[137]\tvalidation_0-rmse:12919.4\n",
      "[138]\tvalidation_0-rmse:12882.9\n",
      "[139]\tvalidation_0-rmse:12861.6\n",
      "[140]\tvalidation_0-rmse:12831\n",
      "[141]\tvalidation_0-rmse:12813.5\n",
      "[142]\tvalidation_0-rmse:12755.3\n",
      "[143]\tvalidation_0-rmse:12715.2\n",
      "[144]\tvalidation_0-rmse:12651.2\n",
      "[145]\tvalidation_0-rmse:12632.2\n",
      "[146]\tvalidation_0-rmse:12607.8\n",
      "[147]\tvalidation_0-rmse:12592.8\n",
      "[148]\tvalidation_0-rmse:12541.1\n",
      "[149]\tvalidation_0-rmse:12504.9\n",
      "[150]\tvalidation_0-rmse:12470.7\n",
      "[151]\tvalidation_0-rmse:12432.4\n",
      "[152]\tvalidation_0-rmse:12396.1\n",
      "[153]\tvalidation_0-rmse:12366.9\n",
      "[154]\tvalidation_0-rmse:12339.8\n",
      "[155]\tvalidation_0-rmse:12327.5\n",
      "[156]\tvalidation_0-rmse:12311.7\n",
      "[157]\tvalidation_0-rmse:12288.4\n",
      "[158]\tvalidation_0-rmse:12257.6\n",
      "[159]\tvalidation_0-rmse:12192.9\n",
      "[160]\tvalidation_0-rmse:12145.2\n",
      "[161]\tvalidation_0-rmse:12109.5\n",
      "[162]\tvalidation_0-rmse:12100.4\n",
      "[163]\tvalidation_0-rmse:12061.4\n",
      "[164]\tvalidation_0-rmse:12007\n",
      "[165]\tvalidation_0-rmse:11968.4\n",
      "[166]\tvalidation_0-rmse:11954.7\n",
      "[167]\tvalidation_0-rmse:11939.3\n",
      "[168]\tvalidation_0-rmse:11906.7\n",
      "[169]\tvalidation_0-rmse:11866\n",
      "[170]\tvalidation_0-rmse:11853.6\n",
      "[171]\tvalidation_0-rmse:11810.8\n",
      "[172]\tvalidation_0-rmse:11789.7\n",
      "[173]\tvalidation_0-rmse:11770.3\n",
      "[174]\tvalidation_0-rmse:11733.1\n",
      "[175]\tvalidation_0-rmse:11722.2\n",
      "[176]\tvalidation_0-rmse:11678.2\n",
      "[177]\tvalidation_0-rmse:11663.7\n",
      "[178]\tvalidation_0-rmse:11646.4\n",
      "[179]\tvalidation_0-rmse:11617.4\n",
      "[180]\tvalidation_0-rmse:11604.9\n",
      "[181]\tvalidation_0-rmse:11595.7\n",
      "[182]\tvalidation_0-rmse:11579.1\n",
      "[183]\tvalidation_0-rmse:11563\n",
      "[184]\tvalidation_0-rmse:11551.1\n",
      "[185]\tvalidation_0-rmse:11515.1\n",
      "[186]\tvalidation_0-rmse:11500.3\n",
      "[187]\tvalidation_0-rmse:11488.7\n",
      "[188]\tvalidation_0-rmse:11459.2\n",
      "[189]\tvalidation_0-rmse:11421.3\n",
      "[190]\tvalidation_0-rmse:11403.9\n",
      "[191]\tvalidation_0-rmse:11382.8\n",
      "[192]\tvalidation_0-rmse:11357.1\n",
      "[193]\tvalidation_0-rmse:11330.1\n",
      "[194]\tvalidation_0-rmse:11318.7\n",
      "[195]\tvalidation_0-rmse:11283\n",
      "[196]\tvalidation_0-rmse:11250.5\n",
      "[197]\tvalidation_0-rmse:11239.4\n",
      "[198]\tvalidation_0-rmse:11225.5\n",
      "[199]\tvalidation_0-rmse:11194.1\n",
      "[200]\tvalidation_0-rmse:11178.1\n",
      "[201]\tvalidation_0-rmse:11137.6\n",
      "[202]\tvalidation_0-rmse:11106.4\n",
      "[203]\tvalidation_0-rmse:11087.9\n",
      "[204]\tvalidation_0-rmse:11065.4\n",
      "[205]\tvalidation_0-rmse:11056.2\n",
      "[206]\tvalidation_0-rmse:11042\n",
      "[207]\tvalidation_0-rmse:11014.9\n",
      "[208]\tvalidation_0-rmse:10966.4\n",
      "[209]\tvalidation_0-rmse:10953\n",
      "[210]\tvalidation_0-rmse:10939.1\n",
      "[211]\tvalidation_0-rmse:10922\n",
      "[212]\tvalidation_0-rmse:10878.2\n",
      "[213]\tvalidation_0-rmse:10864.8\n",
      "[214]\tvalidation_0-rmse:10813.8\n",
      "[215]\tvalidation_0-rmse:10783.9\n",
      "[216]\tvalidation_0-rmse:10771.2\n",
      "[217]\tvalidation_0-rmse:10757.9\n",
      "[218]\tvalidation_0-rmse:10745.6\n",
      "[219]\tvalidation_0-rmse:10728.3\n",
      "[220]\tvalidation_0-rmse:10686.2\n",
      "[221]\tvalidation_0-rmse:10679.1\n",
      "[222]\tvalidation_0-rmse:10656.2\n",
      "[223]\tvalidation_0-rmse:10642.2\n",
      "[224]\tvalidation_0-rmse:10611.5\n",
      "[225]\tvalidation_0-rmse:10593.8\n",
      "[226]\tvalidation_0-rmse:10566.7\n",
      "[227]\tvalidation_0-rmse:10531.7\n",
      "[228]\tvalidation_0-rmse:10511.3\n",
      "[229]\tvalidation_0-rmse:10498.1\n",
      "[230]\tvalidation_0-rmse:10483.3\n",
      "[231]\tvalidation_0-rmse:10470.7\n",
      "[232]\tvalidation_0-rmse:10459.9\n",
      "[233]\tvalidation_0-rmse:10448\n",
      "[234]\tvalidation_0-rmse:10419.3\n",
      "[235]\tvalidation_0-rmse:10394.9\n",
      "[236]\tvalidation_0-rmse:10377.5\n",
      "[237]\tvalidation_0-rmse:10338.1\n",
      "[238]\tvalidation_0-rmse:10294.7\n",
      "[239]\tvalidation_0-rmse:10271.8\n",
      "[240]\tvalidation_0-rmse:10244.9\n",
      "[241]\tvalidation_0-rmse:10212.9\n",
      "[242]\tvalidation_0-rmse:10193.5\n",
      "[243]\tvalidation_0-rmse:10178.1\n",
      "[244]\tvalidation_0-rmse:10144.4\n",
      "[245]\tvalidation_0-rmse:10118.8\n",
      "[246]\tvalidation_0-rmse:10086\n",
      "[247]\tvalidation_0-rmse:10074\n",
      "[248]\tvalidation_0-rmse:10038.5\n",
      "[249]\tvalidation_0-rmse:10024.6\n",
      "[250]\tvalidation_0-rmse:9995.28\n",
      "[251]\tvalidation_0-rmse:9965.9\n",
      "[252]\tvalidation_0-rmse:9935.17\n",
      "[253]\tvalidation_0-rmse:9918.81\n",
      "[254]\tvalidation_0-rmse:9900.36\n",
      "[255]\tvalidation_0-rmse:9886.03\n",
      "[256]\tvalidation_0-rmse:9881.39\n",
      "[257]\tvalidation_0-rmse:9859.91\n",
      "[258]\tvalidation_0-rmse:9852.71\n",
      "[259]\tvalidation_0-rmse:9827.1\n",
      "[260]\tvalidation_0-rmse:9814.1\n",
      "[261]\tvalidation_0-rmse:9785.52\n",
      "[262]\tvalidation_0-rmse:9776.15\n",
      "[263]\tvalidation_0-rmse:9756.89\n",
      "[264]\tvalidation_0-rmse:9715.83\n",
      "[265]\tvalidation_0-rmse:9697.05\n",
      "[266]\tvalidation_0-rmse:9669.75\n",
      "[267]\tvalidation_0-rmse:9660.64\n",
      "[268]\tvalidation_0-rmse:9645.09\n",
      "[269]\tvalidation_0-rmse:9626.38\n",
      "[270]\tvalidation_0-rmse:9607.08\n",
      "[271]\tvalidation_0-rmse:9580.12\n",
      "[272]\tvalidation_0-rmse:9569.25\n",
      "[273]\tvalidation_0-rmse:9559.26\n",
      "[274]\tvalidation_0-rmse:9527.88\n",
      "[275]\tvalidation_0-rmse:9500.61\n",
      "[276]\tvalidation_0-rmse:9473.37\n",
      "[277]\tvalidation_0-rmse:9463.37\n",
      "[278]\tvalidation_0-rmse:9441.34\n",
      "[279]\tvalidation_0-rmse:9407.27\n",
      "[280]\tvalidation_0-rmse:9372.69\n",
      "[281]\tvalidation_0-rmse:9362.79\n",
      "[282]\tvalidation_0-rmse:9332.22\n",
      "[283]\tvalidation_0-rmse:9297.33\n",
      "[284]\tvalidation_0-rmse:9292.83\n",
      "[285]\tvalidation_0-rmse:9277.96\n",
      "[286]\tvalidation_0-rmse:9259.92\n",
      "[287]\tvalidation_0-rmse:9253.18\n",
      "[288]\tvalidation_0-rmse:9237.05\n",
      "[289]\tvalidation_0-rmse:9216.86\n",
      "[290]\tvalidation_0-rmse:9199.32\n",
      "[291]\tvalidation_0-rmse:9185.77\n",
      "[292]\tvalidation_0-rmse:9174.37\n",
      "[293]\tvalidation_0-rmse:9168.16\n",
      "[294]\tvalidation_0-rmse:9161.73\n",
      "[295]\tvalidation_0-rmse:9137.26\n",
      "[296]\tvalidation_0-rmse:9124.91\n",
      "[297]\tvalidation_0-rmse:9115.62\n",
      "[298]\tvalidation_0-rmse:9085.38\n",
      "[299]\tvalidation_0-rmse:9069.73\n",
      "[300]\tvalidation_0-rmse:9053.52\n",
      "[301]\tvalidation_0-rmse:9034.79\n",
      "[302]\tvalidation_0-rmse:9006.15\n",
      "[303]\tvalidation_0-rmse:8999.12\n",
      "[304]\tvalidation_0-rmse:8990.16\n",
      "[305]\tvalidation_0-rmse:8984.3\n",
      "[306]\tvalidation_0-rmse:8971.21\n",
      "[307]\tvalidation_0-rmse:8949.13\n",
      "[308]\tvalidation_0-rmse:8914.21\n",
      "[309]\tvalidation_0-rmse:8893.4\n",
      "[310]\tvalidation_0-rmse:8859.67\n",
      "[311]\tvalidation_0-rmse:8832.74\n",
      "[312]\tvalidation_0-rmse:8811.68\n",
      "[313]\tvalidation_0-rmse:8807.97\n",
      "[314]\tvalidation_0-rmse:8793.76\n",
      "[315]\tvalidation_0-rmse:8769.16\n",
      "[316]\tvalidation_0-rmse:8763.36\n",
      "[317]\tvalidation_0-rmse:8746.02\n",
      "[318]\tvalidation_0-rmse:8729.12\n",
      "[319]\tvalidation_0-rmse:8722.07\n",
      "[320]\tvalidation_0-rmse:8716.4\n",
      "[321]\tvalidation_0-rmse:8691\n",
      "[322]\tvalidation_0-rmse:8682.52\n",
      "[323]\tvalidation_0-rmse:8661\n",
      "[324]\tvalidation_0-rmse:8649.57\n",
      "[325]\tvalidation_0-rmse:8645.06\n",
      "[326]\tvalidation_0-rmse:8628.19\n",
      "[327]\tvalidation_0-rmse:8612.9\n",
      "[328]\tvalidation_0-rmse:8607.94\n",
      "[329]\tvalidation_0-rmse:8598.33\n",
      "[330]\tvalidation_0-rmse:8570.35\n",
      "[331]\tvalidation_0-rmse:8565.49\n",
      "[332]\tvalidation_0-rmse:8559.02\n",
      "[333]\tvalidation_0-rmse:8534.65\n",
      "[334]\tvalidation_0-rmse:8521.77\n",
      "[335]\tvalidation_0-rmse:8503.86\n",
      "[336]\tvalidation_0-rmse:8496.95\n",
      "[337]\tvalidation_0-rmse:8480.76\n",
      "[338]\tvalidation_0-rmse:8456.29\n",
      "[339]\tvalidation_0-rmse:8449.54\n",
      "[340]\tvalidation_0-rmse:8445.27\n",
      "[341]\tvalidation_0-rmse:8419.68\n",
      "[342]\tvalidation_0-rmse:8405.99\n",
      "[343]\tvalidation_0-rmse:8383.21\n",
      "[344]\tvalidation_0-rmse:8377.19\n",
      "[345]\tvalidation_0-rmse:8359.27\n",
      "[346]\tvalidation_0-rmse:8354.02\n",
      "[347]\tvalidation_0-rmse:8343.93\n",
      "[348]\tvalidation_0-rmse:8333.04\n",
      "[349]\tvalidation_0-rmse:8315.37\n",
      "[350]\tvalidation_0-rmse:8306.23\n",
      "[351]\tvalidation_0-rmse:8289.75\n",
      "[352]\tvalidation_0-rmse:8276.98\n",
      "[353]\tvalidation_0-rmse:8254.93\n",
      "[354]\tvalidation_0-rmse:8241.06\n",
      "[355]\tvalidation_0-rmse:8218.67\n",
      "[356]\tvalidation_0-rmse:8205.38\n",
      "[357]\tvalidation_0-rmse:8176.18\n",
      "[358]\tvalidation_0-rmse:8169.59\n",
      "[359]\tvalidation_0-rmse:8157.31\n",
      "[360]\tvalidation_0-rmse:8147.58\n",
      "[361]\tvalidation_0-rmse:8122.07\n",
      "[362]\tvalidation_0-rmse:8099.25\n",
      "[363]\tvalidation_0-rmse:8090.14\n",
      "[364]\tvalidation_0-rmse:8077.23\n",
      "[365]\tvalidation_0-rmse:8058.37\n",
      "[366]\tvalidation_0-rmse:8042.59\n",
      "[367]\tvalidation_0-rmse:8029.24\n",
      "[368]\tvalidation_0-rmse:8000.7\n",
      "[369]\tvalidation_0-rmse:7983.48\n",
      "[370]\tvalidation_0-rmse:7961.65\n",
      "[371]\tvalidation_0-rmse:7956.74\n",
      "[372]\tvalidation_0-rmse:7944.54\n",
      "[373]\tvalidation_0-rmse:7936.23\n",
      "[374]\tvalidation_0-rmse:7930.12\n",
      "[375]\tvalidation_0-rmse:7926.17\n",
      "[376]\tvalidation_0-rmse:7920.48\n",
      "[377]\tvalidation_0-rmse:7914.97\n",
      "[378]\tvalidation_0-rmse:7901.71\n",
      "[379]\tvalidation_0-rmse:7883.19\n",
      "[380]\tvalidation_0-rmse:7863.78\n",
      "[381]\tvalidation_0-rmse:7845.25\n",
      "[382]\tvalidation_0-rmse:7829.35\n",
      "[383]\tvalidation_0-rmse:7816.52\n",
      "[384]\tvalidation_0-rmse:7809.52\n",
      "[385]\tvalidation_0-rmse:7796.84\n",
      "[386]\tvalidation_0-rmse:7791.1\n",
      "[387]\tvalidation_0-rmse:7772.49\n",
      "[388]\tvalidation_0-rmse:7751.39\n",
      "[389]\tvalidation_0-rmse:7747.74\n",
      "[390]\tvalidation_0-rmse:7735.29\n",
      "[391]\tvalidation_0-rmse:7718.01\n",
      "[392]\tvalidation_0-rmse:7692.83\n",
      "[393]\tvalidation_0-rmse:7683.28\n",
      "[394]\tvalidation_0-rmse:7677.78\n",
      "[395]\tvalidation_0-rmse:7665.75\n",
      "[396]\tvalidation_0-rmse:7649.51\n",
      "[397]\tvalidation_0-rmse:7631.77\n",
      "[398]\tvalidation_0-rmse:7613.52\n",
      "[399]\tvalidation_0-rmse:7604.94\n",
      "[400]\tvalidation_0-rmse:7591.51\n",
      "[401]\tvalidation_0-rmse:7577.35\n",
      "[402]\tvalidation_0-rmse:7564.48\n",
      "[403]\tvalidation_0-rmse:7547.19\n",
      "[404]\tvalidation_0-rmse:7538.97\n",
      "[405]\tvalidation_0-rmse:7532.89\n",
      "[406]\tvalidation_0-rmse:7526.01\n",
      "[407]\tvalidation_0-rmse:7521.4\n",
      "[408]\tvalidation_0-rmse:7504.56\n",
      "[409]\tvalidation_0-rmse:7486.38\n",
      "[410]\tvalidation_0-rmse:7470.77\n",
      "[411]\tvalidation_0-rmse:7453.06\n",
      "[412]\tvalidation_0-rmse:7439.77\n",
      "[413]\tvalidation_0-rmse:7433.81\n",
      "[414]\tvalidation_0-rmse:7414.57\n",
      "[415]\tvalidation_0-rmse:7403.37\n",
      "[416]\tvalidation_0-rmse:7380.3\n",
      "[417]\tvalidation_0-rmse:7365.15\n",
      "[418]\tvalidation_0-rmse:7352.39\n",
      "[419]\tvalidation_0-rmse:7334.2\n",
      "[420]\tvalidation_0-rmse:7313.25\n",
      "[421]\tvalidation_0-rmse:7305.7\n",
      "[422]\tvalidation_0-rmse:7293.76\n",
      "[423]\tvalidation_0-rmse:7272.11\n",
      "[424]\tvalidation_0-rmse:7264.3\n",
      "[425]\tvalidation_0-rmse:7253.58\n",
      "[426]\tvalidation_0-rmse:7249.52\n",
      "[427]\tvalidation_0-rmse:7237.18\n",
      "[428]\tvalidation_0-rmse:7234.7\n",
      "[429]\tvalidation_0-rmse:7228.91\n",
      "[430]\tvalidation_0-rmse:7215.91\n",
      "[431]\tvalidation_0-rmse:7203.87\n",
      "[432]\tvalidation_0-rmse:7195.36\n",
      "[433]\tvalidation_0-rmse:7188.34\n",
      "[434]\tvalidation_0-rmse:7174.71\n",
      "[435]\tvalidation_0-rmse:7164.34\n",
      "[436]\tvalidation_0-rmse:7145.16\n",
      "[437]\tvalidation_0-rmse:7137.18\n",
      "[438]\tvalidation_0-rmse:7115.11\n",
      "[439]\tvalidation_0-rmse:7105.87\n",
      "[440]\tvalidation_0-rmse:7098.96\n",
      "[441]\tvalidation_0-rmse:7091.96\n",
      "[442]\tvalidation_0-rmse:7074.55\n",
      "[443]\tvalidation_0-rmse:7069.2\n",
      "[444]\tvalidation_0-rmse:7064.78\n",
      "[445]\tvalidation_0-rmse:7059.32\n",
      "[446]\tvalidation_0-rmse:7036.11\n",
      "[447]\tvalidation_0-rmse:7018.21\n",
      "[448]\tvalidation_0-rmse:7002.56\n",
      "[449]\tvalidation_0-rmse:6992.23\n",
      "[450]\tvalidation_0-rmse:6981.6\n",
      "[451]\tvalidation_0-rmse:6977.11\n",
      "[452]\tvalidation_0-rmse:6973.84\n",
      "[453]\tvalidation_0-rmse:6953.68\n",
      "[454]\tvalidation_0-rmse:6936.65\n",
      "[455]\tvalidation_0-rmse:6924.67\n",
      "[456]\tvalidation_0-rmse:6914.97\n",
      "[457]\tvalidation_0-rmse:6911.57\n",
      "[458]\tvalidation_0-rmse:6904.68\n",
      "[459]\tvalidation_0-rmse:6890.45\n",
      "[460]\tvalidation_0-rmse:6875.65\n",
      "[461]\tvalidation_0-rmse:6865.42\n",
      "[462]\tvalidation_0-rmse:6853.83\n",
      "[463]\tvalidation_0-rmse:6838.7\n",
      "[464]\tvalidation_0-rmse:6835.39\n",
      "[465]\tvalidation_0-rmse:6817.4\n",
      "[466]\tvalidation_0-rmse:6807.53\n",
      "[467]\tvalidation_0-rmse:6794.04\n",
      "[468]\tvalidation_0-rmse:6787.25\n",
      "[469]\tvalidation_0-rmse:6780.94\n",
      "[470]\tvalidation_0-rmse:6768.02\n",
      "[471]\tvalidation_0-rmse:6755.64\n",
      "[472]\tvalidation_0-rmse:6741.11\n",
      "[473]\tvalidation_0-rmse:6732.89\n",
      "[474]\tvalidation_0-rmse:6727.33\n",
      "[475]\tvalidation_0-rmse:6718.23\n",
      "[476]\tvalidation_0-rmse:6703.79\n",
      "[477]\tvalidation_0-rmse:6690.88\n",
      "[478]\tvalidation_0-rmse:6688.2\n",
      "[479]\tvalidation_0-rmse:6679.75\n",
      "[480]\tvalidation_0-rmse:6665.84\n",
      "[481]\tvalidation_0-rmse:6649.79\n",
      "[482]\tvalidation_0-rmse:6645.72\n",
      "[483]\tvalidation_0-rmse:6631.93\n",
      "[484]\tvalidation_0-rmse:6629.41\n",
      "[485]\tvalidation_0-rmse:6611.89\n",
      "[486]\tvalidation_0-rmse:6602.44\n",
      "[487]\tvalidation_0-rmse:6598.37\n",
      "[488]\tvalidation_0-rmse:6583.81\n",
      "[489]\tvalidation_0-rmse:6565.62\n",
      "[490]\tvalidation_0-rmse:6559.82\n",
      "[491]\tvalidation_0-rmse:6556.89\n",
      "[492]\tvalidation_0-rmse:6554.16\n",
      "[493]\tvalidation_0-rmse:6549.68\n",
      "[494]\tvalidation_0-rmse:6544.44\n",
      "[495]\tvalidation_0-rmse:6531.72\n",
      "[496]\tvalidation_0-rmse:6515.54\n",
      "[497]\tvalidation_0-rmse:6495.79\n",
      "[498]\tvalidation_0-rmse:6488.86\n",
      "[499]\tvalidation_0-rmse:6478.61\n",
      "Mean Absolute Error: 15920.257852632705\n"
     ]
    },
    {
     "data": {
      "application/javascript": [
       "parent.postMessage({\"jupyterEvent\": \"custom.exercise_interaction\", \"data\": {\"outcomeType\": 1, \"valueTowardsCompletion\": 0.5, \"interactionType\": 1, \"questionType\": 2, \"questionId\": \"2_Model2\", \"learnToolsVersion\": \"0.3.3\", \"failureMessage\": \"\", \"exceptionClass\": \"\", \"trace\": \"\"}}, \"*\")"
      ],
      "text/plain": [
       "<IPython.core.display.Javascript object>"
      ]
     },
     "metadata": {},
     "output_type": "display_data"
    },
    {
     "data": {
      "text/markdown": [
       "<span style=\"color:#33cc33\">Correct</span>"
      ],
      "text/plain": [
       "Correct"
      ]
     },
     "metadata": {},
     "output_type": "display_data"
    }
   ],
   "source": [
    "# Define the model\n",
    "my_model_2 = XGBRegressor(n_estimators=500) # Your code here\n",
    "\n",
    "# Fit the model\n",
    "my_model_2.fit(X_train, y_train,\n",
    "               early_stopping_rounds=5,\n",
    "               eval_set=[(X_train, y_train)]) # Your code here\n",
    "\n",
    "# Get predictions\n",
    "predictions_2 = my_model_2.predict(X_valid) # Your code here\n",
    "\n",
    "# Calculate MAE\n",
    "mae_2 = mean_absolute_error(y_valid, predictions_2) # Your code here\n",
    "\n",
    "# Uncomment to print MAE\n",
    "print(\"Mean Absolute Error:\" , mae_2)\n",
    "\n",
    "# Check your answer\n",
    "step_2.check()"
   ]
  },
  {
   "cell_type": "code",
   "execution_count": 10,
   "metadata": {},
   "outputs": [],
   "source": [
    "# Lines below will give you a hint or solution code\n",
    "#step_2.hint()\n",
    "#step_2.solution()"
   ]
  },
  {
   "cell_type": "markdown",
   "metadata": {},
   "source": [
    "# Step 3: Break the model\n",
    "\n",
    "In this step, you will create a model that performs worse than the original model in Step 1.  This will help you to develop your intuition for how to set parameters.  You might even find that you accidentally get better performance, which is ultimately a nice problem to have and a valuable learning experience!\n",
    "- Begin by setting `my_model_3` to an XGBoost model, using the [XGBRegressor](https://xgboost.readthedocs.io/en/latest/python/python_api.html#xgboost.XGBRegressor) class.  Use what you learned in the previous tutorial to figure out how to change the default parameters (like `n_estimators` and `learning_rate`) to design a model to get high MAE.\n",
    "- Then, fit the model to the training data in `X_train` and `y_train`.\n",
    "- Set `predictions_3` to the model's predictions for the validation data.  Recall that the validation features are stored in `X_valid`.\n",
    "- Finally, use the `mean_absolute_error()` function to calculate the mean absolute error (MAE) corresponding to the predictions on the validation set.  Recall that the labels for the validation data are stored in `y_valid`.\n",
    "\n",
    "In order for this step to be marked correct, your model in `my_model_3` must attain higher MAE than the model in `my_model_1`. "
   ]
  },
  {
   "cell_type": "code",
   "execution_count": 11,
   "metadata": {},
   "outputs": [
    {
     "name": "stdout",
     "output_type": "stream",
     "text": [
      "[10:57:30] WARNING: /workspace/src/objective/regression_obj.cu:152: reg:linear is now deprecated in favor of reg:squarederror.\n",
      "Mean Absolute Error: 163382.59044574058\n"
     ]
    },
    {
     "name": "stderr",
     "output_type": "stream",
     "text": [
      "/opt/conda/lib/python3.6/site-packages/xgboost/core.py:587: FutureWarning: Series.base is deprecated and will be removed in a future version\n",
      "  if getattr(data, 'base', None) is not None and \\\n"
     ]
    },
    {
     "data": {
      "application/javascript": [
       "parent.postMessage({\"jupyterEvent\": \"custom.exercise_interaction\", \"data\": {\"outcomeType\": 1, \"valueTowardsCompletion\": 0.5, \"interactionType\": 1, \"questionType\": 2, \"questionId\": \"3_Model3\", \"learnToolsVersion\": \"0.3.3\", \"failureMessage\": \"\", \"exceptionClass\": \"\", \"trace\": \"\"}}, \"*\")"
      ],
      "text/plain": [
       "<IPython.core.display.Javascript object>"
      ]
     },
     "metadata": {},
     "output_type": "display_data"
    },
    {
     "data": {
      "text/markdown": [
       "<span style=\"color:#33cc33\">Correct</span>"
      ],
      "text/plain": [
       "Correct"
      ]
     },
     "metadata": {},
     "output_type": "display_data"
    }
   ],
   "source": [
    "# Define the model\n",
    "my_model_3 = XGBRegressor(n_estimators=1)\n",
    "\n",
    "# Fit the model\n",
    "my_model_3.fit(X_train, y_train)\n",
    "\n",
    "# Get predictions\n",
    "predictions_3 = my_model_3.predict(X_valid)\n",
    "\n",
    "# Calculate MAE\n",
    "mae_3 = mean_absolute_error(y_valid, predictions_3)\n",
    "\n",
    "# Uncomment to print MAE\n",
    "print(\"Mean Absolute Error:\" , mae_3)\n",
    "\n",
    "# Check your answer\n",
    "step_3.check()"
   ]
  },
  {
   "cell_type": "code",
   "execution_count": 12,
   "metadata": {},
   "outputs": [],
   "source": [
    "# Lines below will give you a hint or solution code\n",
    "#step_3.hint()\n",
    "#step_3.solution()"
   ]
  },
  {
   "cell_type": "markdown",
   "metadata": {},
   "source": [
    "# Keep going\n",
    "\n",
    "Continue to learn about **[data leakage](https://www.kaggle.com/alexisbcook/data-leakage)**.  This is an important issue for a data scientist to understand, and it has the potential to ruin your models in subtle and dangerous ways!"
   ]
  },
  {
   "cell_type": "markdown",
   "metadata": {},
   "source": [
    "---\n",
    "**[Intermediate Machine Learning Home Page](https://www.kaggle.com/learn/intermediate-machine-learning)**\n",
    "\n",
    "\n",
    "\n",
    "\n",
    "\n",
    "*Have questions or comments? Visit the [Learn Discussion forum](https://www.kaggle.com/learn-forum) to chat with other Learners.*"
   ]
  }
 ],
 "metadata": {
  "kernelspec": {
   "display_name": "Python 3",
   "language": "python",
   "name": "python3"
  },
  "language_info": {
   "codemirror_mode": {
    "name": "ipython",
    "version": 3
   },
   "file_extension": ".py",
   "mimetype": "text/x-python",
   "name": "python",
   "nbconvert_exporter": "python",
   "pygments_lexer": "ipython3",
   "version": "3.6.6"
  }
 },
 "nbformat": 4,
 "nbformat_minor": 1
}
