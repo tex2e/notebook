{
 "cells": [
  {
   "cell_type": "markdown",
   "metadata": {},
   "source": [
    "[映画レビューのテキスト分類  \\|  TensorFlow Core](https://www.tensorflow.org/tutorials/keras/text_classification?hl=ja)"
   ]
  },
  {
   "cell_type": "code",
   "execution_count": 1,
   "metadata": {
    "_cell_guid": "79c7e3d0-c299-4dcb-8224-4455121ee9b0",
    "_uuid": "d629ff2d2480ee46fbb7e2d37f6b5fab8052498a"
   },
   "outputs": [
    {
     "name": "stdout",
     "output_type": "stream",
     "text": [
      "2.1.0\n"
     ]
    }
   ],
   "source": [
    "import tensorflow as tf\n",
    "from tensorflow import keras\n",
    "\n",
    "import numpy as np\n",
    "\n",
    "print(tf.__version__)"
   ]
  },
  {
   "cell_type": "markdown",
   "metadata": {},
   "source": [
    "IMDB datasetのダウンロード"
   ]
  },
  {
   "cell_type": "code",
   "execution_count": 2,
   "metadata": {},
   "outputs": [
    {
     "name": "stdout",
     "output_type": "stream",
     "text": [
      "Downloading data from https://storage.googleapis.com/tensorflow/tf-keras-datasets/imdb.npz\n",
      "17465344/17464789 [==============================] - 0s 0us/step\n"
     ]
    }
   ],
   "source": [
    "imdb = keras.datasets.imdb\n",
    "\n",
    "(train_data, train_labels), (test_data, test_labels) = imdb.load_data(num_words=10000)"
   ]
  },
  {
   "cell_type": "markdown",
   "metadata": {},
   "source": [
    "### データの観察"
   ]
  },
  {
   "cell_type": "code",
   "execution_count": 3,
   "metadata": {},
   "outputs": [
    {
     "name": "stdout",
     "output_type": "stream",
     "text": [
      "Training entries: 25000, labels: 25000\n"
     ]
    }
   ],
   "source": [
    "print(\"Training entries: {}, labels: {}\".format(len(train_data), len(train_labels)))"
   ]
  },
  {
   "cell_type": "markdown",
   "metadata": {},
   "source": [
    "データセットは前処理済み\n",
    "\n",
    "- データ : 映画レビューの中の単語を表す整数の配列\n",
    "- ラベル : 0が否定的レビュー、1が肯定的なレビュー"
   ]
  },
  {
   "cell_type": "code",
   "execution_count": 4,
   "metadata": {},
   "outputs": [
    {
     "name": "stdout",
     "output_type": "stream",
     "text": [
      "[1, 14, 22, 16, 43, 530, 973, 1622, 1385, 65, 458, 4468, 66, 3941, 4, 173, 36, 256, 5, 25, 100, 43, 838, 112, 50, 670, 2, 9, 35, 480, 284, 5, 150, 4, 172, 112, 167, 2, 336, 385, 39, 4, 172, 4536, 1111, 17, 546, 38, 13, 447, 4, 192, 50, 16, 6, 147, 2025, 19, 14, 22, 4, 1920, 4613, 469, 4, 22, 71, 87, 12, 16, 43, 530, 38, 76, 15, 13, 1247, 4, 22, 17, 515, 17, 12, 16, 626, 18, 2, 5, 62, 386, 12, 8, 316, 8, 106, 5, 4, 2223, 5244, 16, 480, 66, 3785, 33, 4, 130, 12, 16, 38, 619, 5, 25, 124, 51, 36, 135, 48, 25, 1415, 33, 6, 22, 12, 215, 28, 77, 52, 5, 14, 407, 16, 82, 2, 8, 4, 107, 117, 5952, 15, 256, 4, 2, 7, 3766, 5, 723, 36, 71, 43, 530, 476, 26, 400, 317, 46, 7, 4, 2, 1029, 13, 104, 88, 4, 381, 15, 297, 98, 32, 2071, 56, 26, 141, 6, 194, 7486, 18, 4, 226, 22, 21, 134, 476, 26, 480, 5, 144, 30, 5535, 18, 51, 36, 28, 224, 92, 25, 104, 4, 226, 65, 16, 38, 1334, 88, 12, 16, 283, 5, 16, 4472, 113, 103, 32, 15, 16, 5345, 19, 178, 32]\n"
     ]
    }
   ],
   "source": [
    "print(train_data[0])"
   ]
  },
  {
   "cell_type": "markdown",
   "metadata": {},
   "source": [
    "映画のレビューはそれぞれ長さが異なっている点に注意"
   ]
  },
  {
   "cell_type": "code",
   "execution_count": 5,
   "metadata": {},
   "outputs": [
    {
     "data": {
      "text/plain": [
       "(218, 189, 141)"
      ]
     },
     "execution_count": 5,
     "metadata": {},
     "output_type": "execute_result"
    }
   ],
   "source": [
    "len(train_data[0]), len(train_data[1]), len(train_data[2])"
   ]
  },
  {
   "cell_type": "markdown",
   "metadata": {},
   "source": [
    "### 整数を単語に戻す"
   ]
  },
  {
   "cell_type": "code",
   "execution_count": 6,
   "metadata": {},
   "outputs": [
    {
     "name": "stdout",
     "output_type": "stream",
     "text": [
      "Downloading data from https://storage.googleapis.com/tensorflow/tf-keras-datasets/imdb_word_index.json\n",
      "1646592/1641221 [==============================] - 0s 0us/step\n"
     ]
    }
   ],
   "source": [
    "# 単語を整数にマッピングする辞書\n",
    "word_index = imdb.get_word_index()\n",
    "\n",
    "# インデックスの最初の方は予約済み\n",
    "word_index = {k:(v+3) for k,v in word_index.items()} \n",
    "word_index[\"<PAD>\"] = 0\n",
    "word_index[\"<START>\"] = 1\n",
    "word_index[\"<UNK>\"] = 2  # unknown\n",
    "word_index[\"<UNUSED>\"] = 3\n",
    "\n",
    "reverse_word_index = dict([(value, key) for (key, value) in word_index.items()])\n",
    "\n",
    "def decode_review(text):\n",
    "    return ' '.join([reverse_word_index.get(i, '?') for i in text])"
   ]
  },
  {
   "cell_type": "markdown",
   "metadata": {},
   "source": [
    "`decode_review`を使うと、最初のレビューのテキストを表示できる"
   ]
  },
  {
   "cell_type": "code",
   "execution_count": 7,
   "metadata": {},
   "outputs": [
    {
     "data": {
      "text/plain": [
       "\"<START> this film was just brilliant casting location scenery story direction everyone's really suited the part they played and you could just imagine being there robert <UNK> is an amazing actor and now the same being director <UNK> father came from the same scottish island as myself so i loved the fact there was a real connection with this film the witty remarks throughout the film were great it was just brilliant so much that i bought the film as soon as it was released for <UNK> and would recommend it to everyone to watch and the fly fishing was amazing really cried at the end it was so sad and you know what they say if you cry at a film it must have been good and this definitely was also <UNK> to the two little boy's that played the <UNK> of norman and paul they were just brilliant children are often left out of the <UNK> list i think because the stars that play them all grown up are such a big profile for the whole film but these children are amazing and should be praised for what they have done don't you think the whole story was so lovely because it was true and was someone's life after all that was shared with us all\""
      ]
     },
     "execution_count": 7,
     "metadata": {},
     "output_type": "execute_result"
    }
   ],
   "source": [
    "decode_review(train_data[0])"
   ]
  },
  {
   "cell_type": "markdown",
   "metadata": {},
   "source": [
    "### データの準備\n",
    "\n",
    "レビュー（整数の配列）は、ニューラルネットワークに投入する前に、テンソルに変換する\n",
    "\n",
    "配列をパディングによって同じ長さに揃え、`サンプル数 * 長さの最大値`の形の整数テンソルにします。そして、この形式を扱うことができるEmbedding（埋め込み）層をネットワークの最初の層にする\n",
    "\n",
    "長さを標準化する`pad_sequences`関数を使う"
   ]
  },
  {
   "cell_type": "code",
   "execution_count": 8,
   "metadata": {},
   "outputs": [],
   "source": [
    "train_data = keras.preprocessing.sequence.pad_sequences(train_data,\n",
    "                                                        value=word_index[\"<PAD>\"],\n",
    "                                                        padding='post',\n",
    "                                                        maxlen=256)\n",
    "\n",
    "test_data = keras.preprocessing.sequence.pad_sequences(test_data,\n",
    "                                                       value=word_index[\"<PAD>\"],\n",
    "                                                       padding='post',\n",
    "                                                       maxlen=256)"
   ]
  },
  {
   "cell_type": "markdown",
   "metadata": {},
   "source": [
    "これにより、入力データの長さが統一される"
   ]
  },
  {
   "cell_type": "code",
   "execution_count": 9,
   "metadata": {},
   "outputs": [
    {
     "data": {
      "text/plain": [
       "(256, 256, 256)"
      ]
     },
     "execution_count": 9,
     "metadata": {},
     "output_type": "execute_result"
    }
   ],
   "source": [
    "len(train_data[0]), len(train_data[1]), len(train_data[2])"
   ]
  },
  {
   "cell_type": "code",
   "execution_count": 10,
   "metadata": {},
   "outputs": [
    {
     "name": "stdout",
     "output_type": "stream",
     "text": [
      "[   1   14   22   16   43  530  973 1622 1385   65  458 4468   66 3941\n",
      "    4  173   36  256    5   25  100   43  838  112   50  670    2    9\n",
      "   35  480  284    5  150    4  172  112  167    2  336  385   39    4\n",
      "  172 4536 1111   17  546   38   13  447    4  192   50   16    6  147\n",
      " 2025   19   14   22    4 1920 4613  469    4   22   71   87   12   16\n",
      "   43  530   38   76   15   13 1247    4   22   17  515   17   12   16\n",
      "  626   18    2    5   62  386   12    8  316    8  106    5    4 2223\n",
      " 5244   16  480   66 3785   33    4  130   12   16   38  619    5   25\n",
      "  124   51   36  135   48   25 1415   33    6   22   12  215   28   77\n",
      "   52    5   14  407   16   82    2    8    4  107  117 5952   15  256\n",
      "    4    2    7 3766    5  723   36   71   43  530  476   26  400  317\n",
      "   46    7    4    2 1029   13  104   88    4  381   15  297   98   32\n",
      " 2071   56   26  141    6  194 7486   18    4  226   22   21  134  476\n",
      "   26  480    5  144   30 5535   18   51   36   28  224   92   25  104\n",
      "    4  226   65   16   38 1334   88   12   16  283    5   16 4472  113\n",
      "  103   32   15   16 5345   19  178   32    0    0    0    0    0    0\n",
      "    0    0    0    0    0    0    0    0    0    0    0    0    0    0\n",
      "    0    0    0    0    0    0    0    0    0    0    0    0    0    0\n",
      "    0    0    0    0]\n"
     ]
    }
   ],
   "source": [
    "print(train_data[0])"
   ]
  },
  {
   "cell_type": "markdown",
   "metadata": {},
   "source": [
    "### モデルの構築\n",
    "\n",
    "1. 埋め込み層 (Embedding) : 整数にエンコードされた語彙を受け取り、それぞれの単語インデックスに対応する埋め込みベクトルを検索する。ベクトル化のために、出力行列には次元が１つ追加される\n",
    "2. １次元のグローバル平均プーリング層 (GlobalAveragePooling1D) : シーケンスの次元方向に平均値をもとめ、固定長のベクトルを返す。可変長の入力を扱うことができる\n",
    "3. 全結合層 (Dense) : 16個の隠れユニットを持つ全結合層\n",
    "4. 全結合層 (Dense) : 1個の出力ノードに全結合する。sigmoid活性化関数を使うことで出力は確率を表す"
   ]
  },
  {
   "cell_type": "code",
   "execution_count": 11,
   "metadata": {},
   "outputs": [
    {
     "name": "stdout",
     "output_type": "stream",
     "text": [
      "Model: \"sequential\"\n",
      "_________________________________________________________________\n",
      "Layer (type)                 Output Shape              Param #   \n",
      "=================================================================\n",
      "embedding (Embedding)        (None, None, 16)          160000    \n",
      "_________________________________________________________________\n",
      "global_average_pooling1d (Gl (None, 16)                0         \n",
      "_________________________________________________________________\n",
      "dense (Dense)                (None, 16)                272       \n",
      "_________________________________________________________________\n",
      "dense_1 (Dense)              (None, 1)                 17        \n",
      "=================================================================\n",
      "Total params: 160,289\n",
      "Trainable params: 160,289\n",
      "Non-trainable params: 0\n",
      "_________________________________________________________________\n"
     ]
    }
   ],
   "source": [
    "# 入力の形式は映画レビューで使われている語彙数（10,000語）\n",
    "vocab_size = 10000\n",
    "\n",
    "model = keras.Sequential()\n",
    "model.add(keras.layers.Embedding(vocab_size, 16))\n",
    "model.add(keras.layers.GlobalAveragePooling1D())\n",
    "model.add(keras.layers.Dense(16, activation='relu'))\n",
    "model.add(keras.layers.Dense(1, activation='sigmoid'))\n",
    "\n",
    "model.summary()"
   ]
  },
  {
   "cell_type": "markdown",
   "metadata": {},
   "source": [
    "### モデルのコンパイル\n",
    "\n",
    "- 最適化手法 : adam\n",
    "- 損失関数 : 例えば `mean_squared_error` （平均二乗誤差）を使うこともできるが、一般的には、確率を扱うときは `binary_crossentropy` の方が適している\n",
    "- 指標 : accuracy (精度)"
   ]
  },
  {
   "cell_type": "code",
   "execution_count": 12,
   "metadata": {},
   "outputs": [],
   "source": [
    "model.compile(optimizer='adam',\n",
    "              loss='binary_crossentropy',\n",
    "              metrics=['accuracy'])"
   ]
  },
  {
   "cell_type": "markdown",
   "metadata": {},
   "source": [
    "### チューニングのために検証用データを作る\n",
    "\n",
    "モデルのパラメータのチューニングには、テスト用データを使わずに、検証用データを使う"
   ]
  },
  {
   "cell_type": "code",
   "execution_count": 13,
   "metadata": {},
   "outputs": [],
   "source": [
    "x_val = train_data[:10000]\n",
    "partial_x_train = train_data[10000:]\n",
    "\n",
    "y_val = train_labels[:10000]\n",
    "partial_y_train = train_labels[10000:]"
   ]
  },
  {
   "cell_type": "markdown",
   "metadata": {},
   "source": [
    "### モデルの訓練\n",
    "\n",
    "512個のサンプルからなるミニバッチを使って、40エポックモデルを訓練する\n",
    "\n",
    "訓練中、検証用データの10,000サンプルを用いて、モデルの損失と正解率をモニタリングする"
   ]
  },
  {
   "cell_type": "code",
   "execution_count": 14,
   "metadata": {},
   "outputs": [
    {
     "name": "stdout",
     "output_type": "stream",
     "text": [
      "Train on 15000 samples, validate on 10000 samples\n",
      "Epoch 1/40\n",
      "15000/15000 [==============================] - 1s 100us/sample - loss: 0.6921 - accuracy: 0.5733 - val_loss: 0.6902 - val_accuracy: 0.6700\n",
      "Epoch 2/40\n",
      "15000/15000 [==============================] - 1s 39us/sample - loss: 0.6872 - accuracy: 0.7340 - val_loss: 0.6839 - val_accuracy: 0.7108\n",
      "Epoch 3/40\n",
      "15000/15000 [==============================] - 1s 39us/sample - loss: 0.6781 - accuracy: 0.7302 - val_loss: 0.6727 - val_accuracy: 0.7300\n",
      "Epoch 4/40\n",
      "15000/15000 [==============================] - 1s 39us/sample - loss: 0.6626 - accuracy: 0.7544 - val_loss: 0.6547 - val_accuracy: 0.7473\n",
      "Epoch 5/40\n",
      "15000/15000 [==============================] - 1s 40us/sample - loss: 0.6392 - accuracy: 0.7755 - val_loss: 0.6294 - val_accuracy: 0.7486\n",
      "Epoch 6/40\n",
      "15000/15000 [==============================] - 1s 39us/sample - loss: 0.6083 - accuracy: 0.7859 - val_loss: 0.5979 - val_accuracy: 0.7771\n",
      "Epoch 7/40\n",
      "15000/15000 [==============================] - 1s 39us/sample - loss: 0.5717 - accuracy: 0.8105 - val_loss: 0.5627 - val_accuracy: 0.8005\n",
      "Epoch 8/40\n",
      "15000/15000 [==============================] - 1s 41us/sample - loss: 0.5321 - accuracy: 0.8319 - val_loss: 0.5263 - val_accuracy: 0.8236\n",
      "Epoch 9/40\n",
      "15000/15000 [==============================] - 1s 39us/sample - loss: 0.4922 - accuracy: 0.8497 - val_loss: 0.4916 - val_accuracy: 0.8280\n",
      "Epoch 10/40\n",
      "15000/15000 [==============================] - 1s 39us/sample - loss: 0.4542 - accuracy: 0.8643 - val_loss: 0.4598 - val_accuracy: 0.8416\n",
      "Epoch 11/40\n",
      "15000/15000 [==============================] - 1s 40us/sample - loss: 0.4199 - accuracy: 0.8719 - val_loss: 0.4311 - val_accuracy: 0.8517\n",
      "Epoch 12/40\n",
      "15000/15000 [==============================] - 1s 39us/sample - loss: 0.3891 - accuracy: 0.8828 - val_loss: 0.4065 - val_accuracy: 0.8587\n",
      "Epoch 13/40\n",
      "15000/15000 [==============================] - 1s 39us/sample - loss: 0.3615 - accuracy: 0.8889 - val_loss: 0.3863 - val_accuracy: 0.8619\n",
      "Epoch 14/40\n",
      "15000/15000 [==============================] - 1s 39us/sample - loss: 0.3373 - accuracy: 0.8937 - val_loss: 0.3687 - val_accuracy: 0.8627\n",
      "Epoch 15/40\n",
      "15000/15000 [==============================] - 1s 40us/sample - loss: 0.3166 - accuracy: 0.8989 - val_loss: 0.3532 - val_accuracy: 0.8713\n",
      "Epoch 16/40\n",
      "15000/15000 [==============================] - 1s 39us/sample - loss: 0.2978 - accuracy: 0.9053 - val_loss: 0.3414 - val_accuracy: 0.8703\n",
      "Epoch 17/40\n",
      "15000/15000 [==============================] - 1s 40us/sample - loss: 0.2810 - accuracy: 0.9090 - val_loss: 0.3307 - val_accuracy: 0.8749\n",
      "Epoch 18/40\n",
      "15000/15000 [==============================] - 1s 40us/sample - loss: 0.2660 - accuracy: 0.9135 - val_loss: 0.3219 - val_accuracy: 0.8765\n",
      "Epoch 19/40\n",
      "15000/15000 [==============================] - 1s 40us/sample - loss: 0.2524 - accuracy: 0.9167 - val_loss: 0.3141 - val_accuracy: 0.8794\n",
      "Epoch 20/40\n",
      "15000/15000 [==============================] - 1s 40us/sample - loss: 0.2399 - accuracy: 0.9213 - val_loss: 0.3079 - val_accuracy: 0.8808\n",
      "Epoch 21/40\n",
      "15000/15000 [==============================] - 1s 39us/sample - loss: 0.2288 - accuracy: 0.9244 - val_loss: 0.3026 - val_accuracy: 0.8817\n",
      "Epoch 22/40\n",
      "15000/15000 [==============================] - 1s 39us/sample - loss: 0.2183 - accuracy: 0.9283 - val_loss: 0.2982 - val_accuracy: 0.8822\n",
      "Epoch 23/40\n",
      "15000/15000 [==============================] - 1s 39us/sample - loss: 0.2088 - accuracy: 0.9317 - val_loss: 0.2954 - val_accuracy: 0.8825\n",
      "Epoch 24/40\n",
      "15000/15000 [==============================] - 1s 40us/sample - loss: 0.1997 - accuracy: 0.9353 - val_loss: 0.2923 - val_accuracy: 0.8822\n",
      "Epoch 25/40\n",
      "15000/15000 [==============================] - 1s 41us/sample - loss: 0.1916 - accuracy: 0.9386 - val_loss: 0.2894 - val_accuracy: 0.8834\n",
      "Epoch 26/40\n",
      "15000/15000 [==============================] - 1s 40us/sample - loss: 0.1838 - accuracy: 0.9417 - val_loss: 0.2882 - val_accuracy: 0.8845\n",
      "Epoch 27/40\n",
      "15000/15000 [==============================] - 1s 40us/sample - loss: 0.1761 - accuracy: 0.9449 - val_loss: 0.2868 - val_accuracy: 0.8844\n",
      "Epoch 28/40\n",
      "15000/15000 [==============================] - 1s 39us/sample - loss: 0.1692 - accuracy: 0.9482 - val_loss: 0.2849 - val_accuracy: 0.8854\n",
      "Epoch 29/40\n",
      "15000/15000 [==============================] - 1s 39us/sample - loss: 0.1625 - accuracy: 0.9508 - val_loss: 0.2855 - val_accuracy: 0.8851\n",
      "Epoch 30/40\n",
      "15000/15000 [==============================] - 1s 39us/sample - loss: 0.1570 - accuracy: 0.9531 - val_loss: 0.2847 - val_accuracy: 0.8854\n",
      "Epoch 31/40\n",
      "15000/15000 [==============================] - 1s 39us/sample - loss: 0.1508 - accuracy: 0.9552 - val_loss: 0.2843 - val_accuracy: 0.8852\n",
      "Epoch 32/40\n",
      "15000/15000 [==============================] - 1s 40us/sample - loss: 0.1455 - accuracy: 0.9570 - val_loss: 0.2860 - val_accuracy: 0.8847\n",
      "Epoch 33/40\n",
      "15000/15000 [==============================] - 1s 39us/sample - loss: 0.1401 - accuracy: 0.9597 - val_loss: 0.2869 - val_accuracy: 0.8837\n",
      "Epoch 34/40\n",
      "15000/15000 [==============================] - 1s 39us/sample - loss: 0.1348 - accuracy: 0.9609 - val_loss: 0.2874 - val_accuracy: 0.8841\n",
      "Epoch 35/40\n",
      "15000/15000 [==============================] - 1s 38us/sample - loss: 0.1304 - accuracy: 0.9622 - val_loss: 0.2872 - val_accuracy: 0.8861\n",
      "Epoch 36/40\n",
      "15000/15000 [==============================] - 1s 38us/sample - loss: 0.1255 - accuracy: 0.9646 - val_loss: 0.2888 - val_accuracy: 0.8857\n",
      "Epoch 37/40\n",
      "15000/15000 [==============================] - 1s 40us/sample - loss: 0.1210 - accuracy: 0.9661 - val_loss: 0.2907 - val_accuracy: 0.8851\n",
      "Epoch 38/40\n",
      "15000/15000 [==============================] - 1s 39us/sample - loss: 0.1171 - accuracy: 0.9679 - val_loss: 0.2930 - val_accuracy: 0.8843\n",
      "Epoch 39/40\n",
      "15000/15000 [==============================] - 1s 40us/sample - loss: 0.1129 - accuracy: 0.9692 - val_loss: 0.2937 - val_accuracy: 0.8864\n",
      "Epoch 40/40\n",
      "15000/15000 [==============================] - 1s 39us/sample - loss: 0.1094 - accuracy: 0.9709 - val_loss: 0.2957 - val_accuracy: 0.8864\n"
     ]
    }
   ],
   "source": [
    "history = model.fit(partial_x_train,\n",
    "                    partial_y_train,\n",
    "                    epochs=40,\n",
    "                    batch_size=512,\n",
    "                    validation_data=(x_val, y_val),\n",
    "                    verbose=1)"
   ]
  },
  {
   "cell_type": "markdown",
   "metadata": {},
   "source": [
    "### モデルの評価\n",
    "\n",
    "損失と正解率（今回の結果では87%前後の正解率）"
   ]
  },
  {
   "cell_type": "code",
   "execution_count": 15,
   "metadata": {},
   "outputs": [
    {
     "name": "stdout",
     "output_type": "stream",
     "text": [
      "25000/25000 - 1s - loss: 0.3166 - accuracy: 0.8747\n",
      "[0.3165797951841354, 0.87468]\n"
     ]
    }
   ],
   "source": [
    "results = model.evaluate(test_data,  test_labels, verbose=2)\n",
    "\n",
    "print(results)"
   ]
  },
  {
   "cell_type": "markdown",
   "metadata": {},
   "source": [
    "### 正解率と損失の時系列グラフを描く"
   ]
  },
  {
   "cell_type": "code",
   "execution_count": 16,
   "metadata": {},
   "outputs": [
    {
     "data": {
      "text/plain": [
       "dict_keys(['loss', 'accuracy', 'val_loss', 'val_accuracy'])"
      ]
     },
     "execution_count": 16,
     "metadata": {},
     "output_type": "execute_result"
    }
   ],
   "source": [
    "history_dict = history.history\n",
    "history_dict.keys()"
   ]
  },
  {
   "cell_type": "markdown",
   "metadata": {},
   "source": [
    "訓練時と検証時の損失を比較するグラフと、訓練時と検証時の正解率を比較するグラフを作成する"
   ]
  },
  {
   "cell_type": "code",
   "execution_count": 17,
   "metadata": {},
   "outputs": [
    {
     "data": {
      "image/png": "[encoded data removed]",
      "text/plain": [
       "<Figure size 576x864 with 2 Axes>"
      ]
     },
     "metadata": {
      "needs_background": "light"
     },
     "output_type": "display_data"
    }
   ],
   "source": [
    "import matplotlib.pyplot as plt\n",
    "\n",
    "acc = history_dict['accuracy']\n",
    "val_acc = history_dict['val_accuracy']\n",
    "loss = history_dict['loss']\n",
    "val_loss = history_dict['val_loss']\n",
    "\n",
    "epochs = range(1, len(acc) + 1)\n",
    "\n",
    "plt.figure(figsize=(8, 12))\n",
    "\n",
    "plt.subplot(2,1,1)\n",
    "# \"bo\" is for \"blue dot\"\n",
    "plt.plot(epochs, loss, 'bo', label='Training loss')\n",
    "# \"b\" is for \"solid blue line\"\n",
    "plt.plot(epochs, val_loss, 'b', label='Validation loss')\n",
    "plt.title('Training and validation loss')\n",
    "plt.xlabel('Epochs')\n",
    "plt.ylabel('Loss')\n",
    "plt.legend()\n",
    "\n",
    "plt.subplot(2,1,2)\n",
    "plt.plot(epochs, acc, 'bo', label='Training acc')\n",
    "plt.plot(epochs, val_acc, 'b', label='Validation acc')\n",
    "plt.title('Training and validation accuracy')\n",
    "plt.xlabel('Epochs')\n",
    "plt.ylabel('Accuracy')\n",
    "plt.legend()\n",
    "\n",
    "plt.show()"
   ]
  },
  {
   "cell_type": "markdown",
   "metadata": {},
   "source": [
    "訓練時の損失がエポックごとに減少し、訓練時の正解率がエポックごとに上昇している。しかし、20エポックを過ぎたあたりから横ばいになっている。これが過学習の一例である。\n",
    "\n",
    "このケースの場合、20エポックを過ぎたあたりで訓練をやめることで、過学習を防止することが出来る。"
   ]
  }
 ],
 "metadata": {
  "kernelspec": {
   "display_name": "Python 3",
   "language": "python",
   "name": "python3"
  },
  "language_info": {
   "codemirror_mode": {
    "name": "ipython",
    "version": 3
   },
   "file_extension": ".py",
   "mimetype": "text/x-python",
   "name": "python",
   "nbconvert_exporter": "python",
   "pygments_lexer": "ipython3",
   "version": "3.6.6"
  }
 },
 "nbformat": 4,
 "nbformat_minor": 4
}
