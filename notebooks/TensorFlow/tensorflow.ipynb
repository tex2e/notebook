{
 "cells": [
  {
   "cell_type": "markdown",
   "metadata": {},
   "source": [
    "[初心者のための TensorFlow 2.0 入門  \\|  TensorFlow Core](https://www.tensorflow.org/tutorials/quickstart/beginner?hl=ja)"
   ]
  },
  {
   "cell_type": "code",
   "execution_count": 1,
   "metadata": {
    "_cell_guid": "79c7e3d0-c299-4dcb-8224-4455121ee9b0",
    "_uuid": "d629ff2d2480ee46fbb7e2d37f6b5fab8052498a"
   },
   "outputs": [
    {
     "name": "stdout",
     "output_type": "stream",
     "text": [
      "Train on 60000 samples\n",
      "Epoch 1/5\n",
      "60000/60000 [==============================] - 6s 95us/sample - loss: 0.2894 - accuracy: 0.9172\n",
      "Epoch 2/5\n",
      "60000/60000 [==============================] - 5s 86us/sample - loss: 0.1405 - accuracy: 0.9585\n",
      "Epoch 3/5\n",
      "60000/60000 [==============================] - 5s 77us/sample - loss: 0.1049 - accuracy: 0.9684\n",
      "Epoch 4/5\n",
      "60000/60000 [==============================] - 4s 74us/sample - loss: 0.0870 - accuracy: 0.9731\n",
      "Epoch 5/5\n",
      "60000/60000 [==============================] - 4s 74us/sample - loss: 0.0738 - accuracy: 0.9766\n",
      "10000/10000 - 1s - loss: 0.0797 - accuracy: 0.9753\n"
     ]
    },
    {
     "data": {
      "text/plain": [
       "[0.07973603014065885, 0.9753]"
      ]
     },
     "execution_count": 1,
     "metadata": {},
     "output_type": "execute_result"
    }
   ],
   "source": [
    "import tensorflow as tf\n",
    "\n",
    "# MNIST データセットをロードする\n",
    "# mnist = tf.keras.datasets.mnist\n",
    "# (x_train, y_train), (x_test, y_test) = mnist.load_data()\n",
    "import gzip\n",
    "import pickle\n",
    "with gzip.open('../input/test-dataset/mnist.pkl.gz', 'rb') as f:\n",
    "  data = pickle.load(f, encoding='bytes')\n",
    "(x_train, y_train), (x_test, y_test) = data\n",
    "\n",
    "# サンプルを整数から浮動小数点数に変換\n",
    "x_train, x_test = x_train / 255.0, x_test / 255.0\n",
    "\n",
    "# 層を積み重ねてtf.keras.Sequentialモデルを構築する\n",
    "model = tf.keras.models.Sequential([\n",
    "  tf.keras.layers.Flatten(input_shape=(28, 28)),\n",
    "  tf.keras.layers.Dense(128, activation='relu'),\n",
    "  tf.keras.layers.Dropout(0.2),\n",
    "  tf.keras.layers.Dense(10, activation='softmax')\n",
    "])\n",
    "\n",
    "model.compile(optimizer='adam',\n",
    "              loss='sparse_categorical_crossentropy',\n",
    "              metrics=['accuracy'])\n",
    "\n",
    "# モデルを訓練する\n",
    "model.fit(x_train, y_train, epochs=5)\n",
    "\n",
    "# モデルを評価する\n",
    "model.evaluate(x_test, y_test, verbose=2)"
   ]
  }
 ],
 "metadata": {
  "kernelspec": {
   "display_name": "Python 3",
   "language": "python",
   "name": "python3"
  },
  "language_info": {
   "codemirror_mode": {
    "name": "ipython",
    "version": 3
   },
   "file_extension": ".py",
   "mimetype": "text/x-python",
   "name": "python",
   "nbconvert_exporter": "python",
   "pygments_lexer": "ipython3",
   "version": "3.6.6"
  }
 },
 "nbformat": 4,
 "nbformat_minor": 4
}
